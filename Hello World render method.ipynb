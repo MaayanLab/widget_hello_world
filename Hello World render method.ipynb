{
 "cells": [
  {
   "cell_type": "markdown",
   "metadata": {},
   "source": [
    "# Hello World Widget with Render Method\n",
    "Is it possible to delay rendering of the widget until a render method is called?"
   ]
  },
  {
   "cell_type": "markdown",
   "metadata": {},
   "source": [
    "# Back End"
   ]
  },
  {
   "cell_type": "code",
   "execution_count": 8,
   "metadata": {
    "collapsed": true
   },
   "outputs": [],
   "source": [
    "import ipywidgets as widgets\n",
    "from traitlets import Unicode, validate\n",
    "\n",
    "class HelloWidget(widgets.DOMWidget):\n",
    "    _view_name = Unicode('HelloView').tag(sync=True)\n",
    "    _view_module = Unicode('hello').tag(sync=True)\n",
    "    value = Unicode('Hello World!').tag(sync=True)\n",
    "        \n",
    "    def render(self):\n",
    "        ''' render the widget when calling this method '''\n",
    "        print('RENDER THE WIDGET')\n",
    "    "
   ]
  },
  {
   "cell_type": "markdown",
   "metadata": {},
   "source": [
    "# Front End"
   ]
  },
  {
   "cell_type": "code",
   "execution_count": 9,
   "metadata": {
    "collapsed": false
   },
   "outputs": [
    {
     "data": {
      "application/javascript": [
       "require.undef('hello');\n",
       "\n",
       "define('hello', ['jupyter-js-widgets'], function(widgets){\n",
       "    \n",
       "    var HelloView = widgets.DOMWidgetView.extend({\n",
       "        render: function(){\n",
       "            this.value_changed();\n",
       "            // event name, callback handle, callback context\n",
       "            this.model.on('change:value', this.value_changed, this);\n",
       "        },\n",
       "        \n",
       "        value_changed: function(){\n",
       "            this.el.textContent = this.model.get('value');\n",
       "        },\n",
       "    });\n",
       "    \n",
       "    return {\n",
       "        HelloView : HelloView\n",
       "    };\n",
       "});"
      ],
      "text/plain": [
       "<IPython.core.display.Javascript object>"
      ]
     },
     "metadata": {},
     "output_type": "display_data"
    }
   ],
   "source": [
    "%%javascript\n",
    "require.undef('hello');\n",
    "\n",
    "define('hello', ['jupyter-js-widgets'], function(widgets){\n",
    "    \n",
    "    var HelloView = widgets.DOMWidgetView.extend({\n",
    "        render: function(){\n",
    "            this.value_changed();\n",
    "            // event name, callback handle, callback context\n",
    "            this.model.on('change:value', this.value_changed, this);\n",
    "        },\n",
    "        \n",
    "        value_changed: function(){\n",
    "            this.el.textContent = this.model.get('value');\n",
    "        },\n",
    "    });\n",
    "    \n",
    "    return {\n",
    "        HelloView : HelloView\n",
    "    };\n",
    "});"
   ]
  },
  {
   "cell_type": "markdown",
   "metadata": {},
   "source": [
    "# Renders when instantiating the class\n",
    "The widget renders when instantiating the class, but I would like to delay rendering until I call the render method. Is this possible?"
   ]
  },
  {
   "cell_type": "code",
   "execution_count": 16,
   "metadata": {
    "collapsed": false
   },
   "outputs": [
    {
     "data": {
      "application/vnd.jupyter.widget-view+json": {
       "model_id": "e4f8be0356da489784382b2d9e2d53ab"
      }
     },
     "metadata": {},
     "output_type": "display_data"
    }
   ],
   "source": [
    "HelloWidget()"
   ]
  },
  {
   "cell_type": "code",
   "execution_count": 19,
   "metadata": {
    "collapsed": false
   },
   "outputs": [
    {
     "data": {
      "application/vnd.jupyter.widget-view+json": {
       "model_id": "5344edc7b9a2406b9ae7e879d955fffa"
      }
     },
     "metadata": {},
     "output_type": "display_data"
    }
   ],
   "source": [
    "w = HelloWidget()\n",
    "w"
   ]
  },
  {
   "cell_type": "code",
   "execution_count": 20,
   "metadata": {
    "collapsed": false
   },
   "outputs": [
    {
     "name": "stdout",
     "output_type": "stream",
     "text": [
      "RENDER THE WIDGET\n"
     ]
    }
   ],
   "source": [
    "w.render()"
   ]
  },
  {
   "cell_type": "markdown",
   "metadata": {},
   "source": [
    "I would like to instantiate the widget, `w`, load some data, perform some calculations, and then render the widget."
   ]
  },
  {
   "cell_type": "code",
   "execution_count": null,
   "metadata": {
    "collapsed": true
   },
   "outputs": [],
   "source": []
  }
 ],
 "metadata": {
  "anaconda-cloud": {},
  "kernelspec": {
   "display_name": "Python [Root]",
   "language": "python",
   "name": "Python [Root]"
  },
  "language_info": {
   "codemirror_mode": {
    "name": "ipython",
    "version": 2
   },
   "file_extension": ".py",
   "mimetype": "text/x-python",
   "name": "python",
   "nbconvert_exporter": "python",
   "pygments_lexer": "ipython2",
   "version": "2.7.12"
  },
  "widgets": {
   "application/vnd.jupyter.widget-state+json": {
    "state": {
     "0ac9e219234b460581ef84d69c4dfc2e": {
      "model_module": "jupyter-js-widgets",
      "model_module_version": "*",
      "model_name": "DOMWidgetModel",
      "state": {
       "_model_name": "DOMWidgetModel",
       "_view_module": "hello",
       "_view_name": "HelloView",
       "layout": "IPY_MODEL_ed48c38da9144d0b989961a326ca4e47",
       "value": "new string"
      }
     },
     "22d84b62582e4c79b526f94cb7ac8c14": {
      "model_module": "jupyter-js-widgets",
      "model_module_version": "*",
      "model_name": "DOMWidgetModel",
      "state": {
       "_model_name": "DOMWidgetModel",
       "_view_module": "hello",
       "_view_name": "HelloView",
       "layout": "IPY_MODEL_d88df0b7f7c7420baba6b313d0911954",
       "value": "Hello World!"
      }
     },
     "28f7ed17c7754094840fe6fdfdd12d56": {
      "model_module": "jupyter-js-widgets",
      "model_module_version": "*",
      "model_name": "DOMWidgetModel",
      "state": {
       "_model_name": "DOMWidgetModel",
       "_view_module": "hello",
       "_view_name": "HelloView",
       "layout": "IPY_MODEL_af6b79a3659d471997d36deb43811ea6",
       "value": "new string"
      }
     },
     "5344edc7b9a2406b9ae7e879d955fffa": {
      "model_module": "jupyter-js-widgets",
      "model_module_version": "*",
      "model_name": "DOMWidgetModel",
      "state": {
       "_model_name": "DOMWidgetModel",
       "_view_module": "hello",
       "_view_name": "HelloView",
       "layout": "IPY_MODEL_dcd2c92de7114614be751930a10c52c2",
       "value": "Hello World!"
      }
     },
     "789f5f21e7fd4c25a8ffe6712f54f8b9": {
      "model_module": "jupyter-js-widgets",
      "model_module_version": "~2.1.4",
      "model_name": "LayoutModel",
      "state": {
       "_model_module_version": "~2.1.4",
       "_view_module_version": "~2.1.4"
      }
     },
     "a09c3e05c03d4e18b6bc7b3bef26504c": {
      "model_module": "jupyter-js-widgets",
      "model_module_version": "~2.1.4",
      "model_name": "LayoutModel",
      "state": {
       "_model_module_version": "~2.1.4",
       "_view_module_version": "~2.1.4"
      }
     },
     "af6b79a3659d471997d36deb43811ea6": {
      "model_module": "jupyter-js-widgets",
      "model_module_version": "~2.1.4",
      "model_name": "LayoutModel",
      "state": {
       "_model_module_version": "~2.1.4",
       "_view_module_version": "~2.1.4"
      }
     },
     "b48efcf08fce4c05be6e719b84e75cfe": {
      "model_module": "jupyter-js-widgets",
      "model_module_version": "*",
      "model_name": "DOMWidgetModel",
      "state": {
       "_model_name": "DOMWidgetModel",
       "_view_module": "hello",
       "_view_name": "HelloView",
       "layout": "IPY_MODEL_789f5f21e7fd4c25a8ffe6712f54f8b9",
       "value": "Hello World!"
      }
     },
     "cc28bf8ef14c4036b2d985235c3541ac": {
      "model_module": "jupyter-js-widgets",
      "model_module_version": "~2.1.4",
      "model_name": "LayoutModel",
      "state": {
       "_model_module_version": "~2.1.4",
       "_view_module_version": "~2.1.4"
      }
     },
     "d88df0b7f7c7420baba6b313d0911954": {
      "model_module": "jupyter-js-widgets",
      "model_module_version": "~2.1.4",
      "model_name": "LayoutModel",
      "state": {
       "_model_module_version": "~2.1.4",
       "_view_module_version": "~2.1.4"
      }
     },
     "dcd2c92de7114614be751930a10c52c2": {
      "model_module": "jupyter-js-widgets",
      "model_module_version": "~2.1.4",
      "model_name": "LayoutModel",
      "state": {
       "_model_module_version": "~2.1.4",
       "_view_module_version": "~2.1.4"
      }
     },
     "e4f8be0356da489784382b2d9e2d53ab": {
      "model_module": "jupyter-js-widgets",
      "model_module_version": "*",
      "model_name": "DOMWidgetModel",
      "state": {
       "_model_name": "DOMWidgetModel",
       "_view_module": "hello",
       "_view_name": "HelloView",
       "layout": "IPY_MODEL_cc28bf8ef14c4036b2d985235c3541ac",
       "value": "Hello World!"
      }
     },
     "e98cc14857d34d1ca1a304cf4b3023fb": {
      "model_module": "jupyter-js-widgets",
      "model_module_version": "*",
      "model_name": "DOMWidgetModel",
      "state": {
       "_model_name": "DOMWidgetModel",
       "_view_module": "hello",
       "_view_name": "HelloView",
       "layout": "IPY_MODEL_a09c3e05c03d4e18b6bc7b3bef26504c",
       "value": "Hello World!"
      }
     },
     "ed48c38da9144d0b989961a326ca4e47": {
      "model_module": "jupyter-js-widgets",
      "model_module_version": "~2.1.4",
      "model_name": "LayoutModel",
      "state": {
       "_model_module_version": "~2.1.4",
       "_view_module_version": "~2.1.4"
      }
     }
    },
    "version_major": 1,
    "version_minor": 0
   }
  }
 },
 "nbformat": 4,
 "nbformat_minor": 2
}
