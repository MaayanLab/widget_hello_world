{
 "cells": [
  {
   "cell_type": "markdown",
   "metadata": {},
   "source": [
    "# Building a custom Widget - Hello World\n",
    "The widget framework is built on top of the Comm framework (short for communication). The Comm framework is a framework that allows the kernel to send/receive JSON messages to/from the front-end. \n",
    "\n",
    "* Interact\n",
    "* Widgets\n",
    "* COMM\n",
    "* Websockets/Zeromq\n",
    "\n",
    "To create a custom widget, you need to define the widget both in the browser and the python kernel."
   ]
  },
  {
   "cell_type": "markdown",
   "metadata": {},
   "source": [
    "## Building a Custom Widget\n",
    "To get started, you'll create a simple hello world widet. Later you'll build on this foundation to make more complex widgets. \n",
    "\n",
    "## Python Kernel\n",
    "### DOMWidget and Widget\n",
    "\n",
    "To define a widget, you must inherit from the Widget or DOMWidget base class. If you intend for your widget to be displayed int he Jupyter notebook, you'll want to inherit from the DOMWidget. The DOMWidget class itself inherits fro the Widget class. The Widget class is useful for cases in which the Widget is not meant to be displayed directly in the notebook, but instead as a child of another rendering environment. For example, if you wanted to create a three.js widget (a poplar WebGL library), you would implement the rendering window as a DOMWidget and any 3D objects or lights meant to be rendered in that window as Widgets. "
   ]
  },
  {
   "cell_type": "markdown",
   "metadata": {},
   "source": [
    "### _View_name\n",
    "Inheriting from the DOMWidget does not tell the widget framework waht front end widget to associate with your back end widget \n",
    "\n",
    "Instead, you must tell it yourself by defining secially named trait attributes, ``view_name`` and ``_view_module`` (as seen below) and optionaly ``_model``. \n"
   ]
  },
  {
   "cell_type": "code",
   "execution_count": 4,
   "metadata": {
    "collapsed": false
   },
   "outputs": [],
   "source": [
    "import ipywidgets as widgets\n",
    "from traitlets import Unicode, validate\n",
    "\n",
    "class HelloWidget(widgets.DOMWidget):\n",
    "    _view_name = Unicode('HelloView').tag(sync=True)\n",
    "    _view_module = Unicode('hello').tag(sync=True)"
   ]
  },
  {
   "cell_type": "markdown",
   "metadata": {},
   "source": [
    "### sync=True traitlets\n",
    "Traitlets is an IPython library for defining type-safe properties on configurable objects. For this tutorial you do not need to worry about the *configurable* piece of the traitlets machinery. The ``sync=True`` keyword argument tells the widget framework to handle synchronizing that value to the browser. Without ``sync=Tue``, the browser would have no knowledge of ``_view_name`` or ``_view_module``. \n",
    "\n",
    "### Other traitlet types\n",
    "Unicode, used for ``view_name``, is not the only Traitlet type, there are many more, some of which are listed below:\n",
    "* Any\n",
    "* Bool\n",
    "...\n",
    "\n",
    "## Front End (JavaScript)\n",
    "### Models and views\n",
    "The IPython widget framework front end relies heavily on Backbone.js. Backbone.js is a MVC (model view controller) framework. Widgets defined int he back end are automatically synchronized with generic Backbone.js models on the front end. The traitlets are added to the  front end instance automatially on the first state push. The ``_view_name`` trait that you defined earlier is used by the widget framework to create the corresponding Backvone.js view and link that view to the model.\n",
    "\n",
    "### Import jupyter-js-widgets\n",
    "You first need to import the ``jupyter-js-widgets`` module. To import modules, use the ``define`` method of require.js (as seen below)."
   ]
  },
  {
   "cell_type": "code",
   "execution_count": 5,
   "metadata": {
    "collapsed": false
   },
   "outputs": [
    {
     "data": {
      "application/javascript": [
       "define('hello', ['jupyter-js-widgets'], function(widgets){\n",
       "    \n",
       "});"
      ],
      "text/plain": [
       "<IPython.core.display.Javascript object>"
      ]
     },
     "metadata": {},
     "output_type": "display_data"
    }
   ],
   "source": [
    "%%javascript\n",
    "define('hello', ['jupyter-js-widgets'], function(widgets){\n",
    "    \n",
    "});"
   ]
  },
  {
   "cell_type": "markdown",
   "metadata": {},
   "source": [
    "### Define the view \n",
    "Next define your widget view class. Inherit from the ``DOMWidgetView`` by using the ``.extend`` method. "
   ]
  },
  {
   "cell_type": "code",
   "execution_count": 6,
   "metadata": {
    "collapsed": false
   },
   "outputs": [
    {
     "data": {
      "application/javascript": [
       "require.undef('hello');\n",
       "\n",
       "define('hello', ['jupyter-js-widgets'], function(widgets){\n",
       "    // define the HelloView\n",
       "    var HelloView = widgets.DOMWidgetView.extend({\n",
       "        \n",
       "    });\n",
       "    \n",
       "    return {\n",
       "        HelloView: HelloView\n",
       "    }\n",
       "});"
      ],
      "text/plain": [
       "<IPython.core.display.Javascript object>"
      ]
     },
     "metadata": {},
     "output_type": "display_data"
    }
   ],
   "source": [
    "%%javascript\n",
    "require.undef('hello');\n",
    "\n",
    "define('hello', ['jupyter-js-widgets'], function(widgets){\n",
    "    // define the HelloView\n",
    "    var HelloView = widgets.DOMWidgetView.extend({\n",
    "        \n",
    "    });\n",
    "    \n",
    "    return {\n",
    "        HelloView: HelloView\n",
    "    }\n",
    "});"
   ]
  },
  {
   "cell_type": "markdown",
   "metadata": {},
   "source": [
    "### Render method\n",
    "Lastly, override the base ``render`` method of the view to define custom rendering logic. A handle to the widget's default DOM element can be acquired via ``this.el``. The ``el`` property is the DOM element associated with the view. "
   ]
  },
  {
   "cell_type": "code",
   "execution_count": null,
   "metadata": {
    "collapsed": true
   },
   "outputs": [],
   "source": [
    "%%javascript\n",
    "require.undef('hello');\n",
    "\n",
    "define('hello', ['jupyter-js-widgets'], function(widgets){\n",
    "    // define the HelloView\n",
    "    var HelloView = widgets.DOMWidgetView.extend({\n",
    "        \n",
    "    })\n",
    "})"
   ]
  }
 ],
 "metadata": {
  "kernelspec": {
   "display_name": "Python [Root]",
   "language": "python",
   "name": "Python [Root]"
  },
  "language_info": {
   "codemirror_mode": {
    "name": "ipython",
    "version": 2
   },
   "file_extension": ".py",
   "mimetype": "text/x-python",
   "name": "python",
   "nbconvert_exporter": "python",
   "pygments_lexer": "ipython2",
   "version": "2.7.12"
  }
 },
 "nbformat": 4,
 "nbformat_minor": 2
}
