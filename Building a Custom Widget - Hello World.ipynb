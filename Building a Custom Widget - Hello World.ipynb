{
 "cells": [
  {
   "cell_type": "markdown",
   "metadata": {},
   "source": [
    "# Building a custom Widget - Hello World\n",
    "The widget framework is built on top of the Comm framework (short for communication). The Comm framework is a framework that allows the kernel to send/receive JSON messages to/from the front-end. \n",
    "\n",
    "* Interact\n",
    "* Widgets\n",
    "* COMM\n",
    "* Websockets/Zeromq\n",
    "\n",
    "To create a custom widget, you need to define the widget both in the browser and the python kernel."
   ]
  },
  {
   "cell_type": "markdown",
   "metadata": {},
   "source": [
    "## Building a Custom Widget\n",
    "To get started, you'll create a simple hello world widet. Later you'll build on this foundation to make more complex widgets. \n",
    "\n",
    "## Python Kernel\n",
    "### DOMWidget and Widget\n",
    "\n",
    "To define a widget, you must inherit from the Widget or DOMWidget base class. If you intend for your widget to be displayed int he Jupyter notebook, you'll want to inherit from the DOMWidget. The DOMWidget class itself inherits fro the Widget class. The Widget class is useful for cases in which the Widget is not meant to be displayed directly in the notebook, but instead as a child of another rendering environment. For example, if you wanted to create a three.js widget (a poplar WebGL library), you would implement the rendering window as a DOMWidget and any 3D objects or lights meant to be rendered in that window as Widgets. "
   ]
  },
  {
   "cell_type": "markdown",
   "metadata": {},
   "source": [
    "### _View_name\n",
    "Inheriting from the DOMWidget does not tell the widget framework waht front end widget to associate with your back end widget \n",
    "\n",
    "Instead, you must tell it yourself by defining secially named trait attributes, ``view_name`` and ``_view_module`` (as seen below) and optionaly ``_model``. \n"
   ]
  },
  {
   "cell_type": "code",
   "execution_count": 27,
   "metadata": {
    "collapsed": false
   },
   "outputs": [],
   "source": [
    "import ipywidgets as widgets\n",
    "from traitlets import Unicode, validate\n",
    "\n",
    "class HelloWidget(widgets.DOMWidget):\n",
    "    _view_name = Unicode('HelloView').tag(sync=True)\n",
    "    _view_module = Unicode('hello').tag(sync=True)"
   ]
  },
  {
   "cell_type": "markdown",
   "metadata": {},
   "source": [
    "### sync=True traitlets\n",
    "Traitlets is an IPython library for defining type-safe properties on configurable objects. For this tutorial you do not need to worry about the *configurable* piece of the traitlets machinery. The ``sync=True`` keyword argument tells the widget framework to handle synchronizing that value to the browser. Without ``sync=Tue``, the browser would have no knowledge of ``_view_name`` or ``_view_module``. \n",
    "\n",
    "### Other traitlet types\n",
    "Unicode, used for ``view_name``, is not the only Traitlet type, there are many more, some of which are listed below:\n",
    "* Any\n",
    "* Bool\n",
    "...\n",
    "\n",
    "## Front End (JavaScript)\n",
    "### Models and views\n",
    "The IPython widget framework front end relies heavily on Backbone.js. Backbone.js is a MVC (model view controller) framework. Widgets defined int he back end are automatically synchronized with generic Backbone.js models on the front end. The traitlets are added to the  front end instance automatially on the first state push. The ``_view_name`` trait that you defined earlier is used by the widget framework to create the corresponding Backvone.js view and link that view to the model.\n",
    "\n",
    "### Import jupyter-js-widgets\n",
    "You first need to import the ``jupyter-js-widgets`` module. To import modules, use the ``define`` method of require.js (as seen below)."
   ]
  },
  {
   "cell_type": "code",
   "execution_count": 9,
   "metadata": {
    "collapsed": false
   },
   "outputs": [
    {
     "data": {
      "application/javascript": [
       "define('hello', ['jupyter-js-widgets'], function(widgets){\n",
       "    \n",
       "});"
      ],
      "text/plain": [
       "<IPython.core.display.Javascript object>"
      ]
     },
     "metadata": {},
     "output_type": "display_data"
    }
   ],
   "source": [
    "%%javascript\n",
    "define('hello', ['jupyter-js-widgets'], function(widgets){\n",
    "    \n",
    "});"
   ]
  },
  {
   "cell_type": "markdown",
   "metadata": {},
   "source": [
    "### Define the view \n",
    "Next define your widget view class. Inherit from the ``DOMWidgetView`` by using the ``.extend`` method. "
   ]
  },
  {
   "cell_type": "code",
   "execution_count": 10,
   "metadata": {
    "collapsed": false
   },
   "outputs": [
    {
     "data": {
      "application/javascript": [
       "require.undef('hello');\n",
       "\n",
       "define('hello', ['jupyter-js-widgets'], function(widgets){\n",
       "    // define the HelloView\n",
       "    var HelloView = widgets.DOMWidgetView.extend({\n",
       "        \n",
       "    });\n",
       "    \n",
       "    return {\n",
       "        HelloView: HelloView\n",
       "    }\n",
       "});"
      ],
      "text/plain": [
       "<IPython.core.display.Javascript object>"
      ]
     },
     "metadata": {},
     "output_type": "display_data"
    }
   ],
   "source": [
    "%%javascript\n",
    "require.undef('hello');\n",
    "\n",
    "define('hello', ['jupyter-js-widgets'], function(widgets){\n",
    "    // define the HelloView\n",
    "    var HelloView = widgets.DOMWidgetView.extend({\n",
    "        \n",
    "    });\n",
    "    \n",
    "    return {\n",
    "        HelloView: HelloView\n",
    "    }\n",
    "});"
   ]
  },
  {
   "cell_type": "markdown",
   "metadata": {},
   "source": [
    "### Render method\n",
    "Lastly, override the base ``render`` method of the view to define custom rendering logic. A handle to the widget's default DOM element can be acquired via ``this.el``. The ``el`` property is the DOM element associated with the view. "
   ]
  },
  {
   "cell_type": "code",
   "execution_count": 11,
   "metadata": {
    "collapsed": false
   },
   "outputs": [
    {
     "data": {
      "application/javascript": [
       "require.undef('hello');\n",
       "\n",
       "define('hello', ['jupyter-js-widgets'], function(widgets){\n",
       "    // define the HelloView\n",
       "    var HelloView = widgets.DOMWidgetView.extend({\n",
       "        // Render the view\n",
       "        render: function(){\n",
       "            this.el.textContent = 'Hello World!';\n",
       "        },\n",
       "    });\n",
       "    \n",
       "    return {\n",
       "        HelloView: HelloView\n",
       "    }\n",
       "})"
      ],
      "text/plain": [
       "<IPython.core.display.Javascript object>"
      ]
     },
     "metadata": {},
     "output_type": "display_data"
    }
   ],
   "source": [
    "%%javascript\n",
    "require.undef('hello');\n",
    "\n",
    "define('hello', ['jupyter-js-widgets'], function(widgets){\n",
    "    // define the HelloView\n",
    "    var HelloView = widgets.DOMWidgetView.extend({\n",
    "        // Render the view\n",
    "        render: function(){\n",
    "            this.el.textContent = 'Hello World!';\n",
    "        },\n",
    "    });\n",
    "    \n",
    "    return {\n",
    "        HelloView: HelloView\n",
    "    }\n",
    "})"
   ]
  },
  {
   "cell_type": "markdown",
   "metadata": {},
   "source": [
    "## Test\n",
    "You should be able to display your widget just like any other widget now. \n"
   ]
  },
  {
   "cell_type": "code",
   "execution_count": 12,
   "metadata": {
    "collapsed": false
   },
   "outputs": [
    {
     "data": {
      "application/vnd.jupyter.widget-view+json": {
       "model_id": "54b7b66e43b447d4b28b2e1055d26277"
      }
     },
     "metadata": {},
     "output_type": "display_data"
    }
   ],
   "source": [
    "HelloWidget()"
   ]
  },
  {
   "cell_type": "markdown",
   "metadata": {},
   "source": [
    "## Making the widget stateful\n",
    "There is not much that you can do with the above example that you can't do with the IPyhon display framework. To change this, you will make the widget stateful. Instead of displaying a static \"hello world\" message, it will display a string set by the back end. First, you will need to adda traitlet in the back end. Use the name of ``value`` to stay consistent with the rest of the widget framework and to allow your widget to be used with interact. "
   ]
  },
  {
   "cell_type": "code",
   "execution_count": 31,
   "metadata": {
    "collapsed": true
   },
   "outputs": [],
   "source": [
    "class HelloWidget(widgets.DOMWidget):\n",
    "    _view_name = Unicode('HelloView').tag(sync=True)\n",
    "    _view_module = Unicode('hello').tag(sync=True)\n",
    "    value = Unicode('Hello World!').tag(sync=True)\n",
    "\n",
    "        \n",
    "    def getCount(self):\n",
    "        return('current count')"
   ]
  },
  {
   "cell_type": "markdown",
   "metadata": {},
   "source": [
    "### Accessing the model from the view\n",
    "To access the model associated with a view instance, use the `model` property of the view. `get` and `set` methods are used to interact with the Backbone model. `get` is trivial, however you have to be careful when using `set`. After calling the model `set` you need to call the view's `touch` method. This associates the `set` operation with a particular view so output will be routed to the correct cell. The model also has an `on` method, which allows you to listen to events triggered by the model (like value changes).\n",
    "\n",
    "### Rendering model contents\n",
    "By replacing the string literal with a call to `model.get`, the view will now display the value of the back end upon display. Howeer, it will not update itself to a new value when the value changes. "
   ]
  },
  {
   "cell_type": "code",
   "execution_count": 32,
   "metadata": {
    "collapsed": false
   },
   "outputs": [
    {
     "data": {
      "application/javascript": [
       "require.undef('hello');\n",
       "\n",
       "define('hello', [\"jupyter-js-widgets\"], function(widgets) {\n",
       "\n",
       "    var HelloView = widgets.DOMWidgetView.extend({\n",
       "\n",
       "        render: function() {\n",
       "            this.el.textContent = this.model.get('value');\n",
       "        },\n",
       "    });\n",
       "\n",
       "    return {\n",
       "        HelloView : HelloView\n",
       "    };\n",
       "});"
      ],
      "text/plain": [
       "<IPython.core.display.Javascript object>"
      ]
     },
     "metadata": {},
     "output_type": "display_data"
    }
   ],
   "source": [
    "%%javascript\n",
    "require.undef('hello');\n",
    "\n",
    "define('hello', [\"jupyter-js-widgets\"], function(widgets) {\n",
    "\n",
    "    var HelloView = widgets.DOMWidgetView.extend({\n",
    "\n",
    "        render: function() {\n",
    "            this.el.textContent = this.model.get('value');\n",
    "        },\n",
    "    });\n",
    "\n",
    "    return {\n",
    "        HelloView : HelloView\n",
    "    };\n",
    "});"
   ]
  },
  {
   "cell_type": "code",
   "execution_count": 16,
   "metadata": {
    "collapsed": false
   },
   "outputs": [
    {
     "data": {
      "application/vnd.jupyter.widget-view+json": {
       "model_id": "a23cd38342994876b793a1a9bf9a6d4d"
      }
     },
     "metadata": {},
     "output_type": "display_data"
    }
   ],
   "source": [
    "HelloWidget(value='some custom string')"
   ]
  },
  {
   "cell_type": "markdown",
   "metadata": {},
   "source": [
    "### Dynamic updates\n",
    "To get the view to update itself dynamically, register a function to update the view's value when the model's `value` property chages. This can be done using the `model.on` method. The `on` method takes three parameters, an event name, callback handle, and callback context. The Backbone event named `change` will fire whenever the model changes. By appending `:value` to it, you tell Backbone to only listen to the change event of the `value` property (as seen below). \n"
   ]
  },
  {
   "cell_type": "code",
   "execution_count": 17,
   "metadata": {
    "collapsed": false
   },
   "outputs": [
    {
     "data": {
      "application/javascript": [
       "require.undef('hello');\n",
       "\n",
       "define('hello', ['jupyter-js-widgets'], function(widgets){\n",
       "    var HelloView = widgets.DOMWidgetView.extend({\n",
       "        render: function(){\n",
       "            this.value_changed();\n",
       "            // event name, callback handle, callback context\n",
       "            this.model.on('change:value', this.value_changed, this);\n",
       "        },\n",
       "        \n",
       "        value_changed: function(){\n",
       "            this.el.textContent = this.model.get('value');\n",
       "        },\n",
       "    });\n",
       "    \n",
       "    return {\n",
       "        HelloView : HelloView\n",
       "    };\n",
       "});"
      ],
      "text/plain": [
       "<IPython.core.display.Javascript object>"
      ]
     },
     "metadata": {},
     "output_type": "display_data"
    }
   ],
   "source": [
    "%%javascript\n",
    "require.undef('hello');\n",
    "\n",
    "define('hello', ['jupyter-js-widgets'], function(widgets){\n",
    "    var HelloView = widgets.DOMWidgetView.extend({\n",
    "        render: function(){\n",
    "            this.value_changed();\n",
    "            // event name, callback handle, callback context\n",
    "            this.model.on('change:value', this.value_changed, this);\n",
    "        },\n",
    "        \n",
    "        value_changed: function(){\n",
    "            this.el.textContent = this.model.get('value');\n",
    "        },\n",
    "    });\n",
    "    \n",
    "    return {\n",
    "        HelloView : HelloView\n",
    "    };\n",
    "});"
   ]
  },
  {
   "cell_type": "code",
   "execution_count": 33,
   "metadata": {
    "collapsed": false
   },
   "outputs": [],
   "source": [
    "w = HelloWidget()"
   ]
  },
  {
   "cell_type": "code",
   "execution_count": 34,
   "metadata": {
    "collapsed": false
   },
   "outputs": [
    {
     "data": {
      "application/vnd.jupyter.widget-view+json": {
       "model_id": "40378c009c074e45b631b1f41a8348cb"
      }
     },
     "metadata": {},
     "output_type": "display_data"
    }
   ],
   "source": [
    "w\n"
   ]
  },
  {
   "cell_type": "code",
   "execution_count": 35,
   "metadata": {
    "collapsed": true
   },
   "outputs": [],
   "source": [
    "w.value = 'something'"
   ]
  },
  {
   "cell_type": "markdown",
   "metadata": {},
   "source": [
    "### Conclusion\n",
    "The example above dumps the value directly to the DOM. There is no way for you to interact with this dumped data in teh front-end. To create an example that accepts input, you will have to do something more than blindly dumping the contents of value into the DOM. \n",
    "\n",
    "In the next section of the tutorial, you will build a date picker to display and accept input in the front-end."
   ]
  },
  {
   "cell_type": "code",
   "execution_count": 36,
   "metadata": {
    "collapsed": false
   },
   "outputs": [
    {
     "data": {
      "text/plain": [
       "'current count'"
      ]
     },
     "execution_count": 36,
     "metadata": {},
     "output_type": "execute_result"
    }
   ],
   "source": [
    "w.getCount()"
   ]
  },
  {
   "cell_type": "code",
   "execution_count": null,
   "metadata": {
    "collapsed": true
   },
   "outputs": [],
   "source": []
  },
  {
   "cell_type": "code",
   "execution_count": null,
   "metadata": {
    "collapsed": true
   },
   "outputs": [],
   "source": []
  },
  {
   "cell_type": "code",
   "execution_count": null,
   "metadata": {
    "collapsed": true
   },
   "outputs": [],
   "source": []
  },
  {
   "cell_type": "code",
   "execution_count": null,
   "metadata": {
    "collapsed": true
   },
   "outputs": [],
   "source": []
  },
  {
   "cell_type": "code",
   "execution_count": null,
   "metadata": {
    "collapsed": true
   },
   "outputs": [],
   "source": []
  },
  {
   "cell_type": "code",
   "execution_count": null,
   "metadata": {
    "collapsed": true
   },
   "outputs": [],
   "source": []
  }
 ],
 "metadata": {
  "kernelspec": {
   "display_name": "Python [Root]",
   "language": "python",
   "name": "Python [Root]"
  },
  "language_info": {
   "codemirror_mode": {
    "name": "ipython",
    "version": 2
   },
   "file_extension": ".py",
   "mimetype": "text/x-python",
   "name": "python",
   "nbconvert_exporter": "python",
   "pygments_lexer": "ipython2",
   "version": "2.7.12"
  }
 },
 "nbformat": 4,
 "nbformat_minor": 2
}
