{
 "cells": [
  {
   "cell_type": "markdown",
   "metadata": {},
   "source": [
    "# Building a custom Widget - Hello World\n",
    "The widget framework is built on top of the Comm framework (short for communication). The Comm framework is a framework that allows the kernel to send/receive JSON messages to/from the front-end. \n",
    "\n",
    "* Interact\n",
    "* Widgets\n",
    "* COMM\n",
    "* Websockets/Zeromq\n",
    "\n",
    "To create a custom widget, you need to define the widget both in the browser and the python kernel."
   ]
  },
  {
   "cell_type": "markdown",
   "metadata": {},
   "source": [
    "## Building a Custom Widget\n",
    "To get started, you'll create a simple hello world widet. Later you'll build on this foundation to make more complex widgets. \n",
    "\n",
    "## Python Kernel\n",
    "### DOMWidget and Widget\n",
    "\n",
    "To define a widget, you must inherit from the Widget or DOMWidget base class. If you intend for your widget to be displayed int he Jupyter notebook, you'll want to inherit from the DOMWidget. The DOMWidget class itself inherits fro the Widget class. The Widget class is useful for cases in which the Widget is not meant to be displayed directly in the notebook, but instead as a child of another rendering environment. For example, if you wanted to create a three.js widget (a poplar WebGL library), you would implement the rendering window as a DOMWidget and any 3D objects or lights meant to be rendered in that window as Widgets. "
   ]
  },
  {
   "cell_type": "markdown",
   "metadata": {},
   "source": [
    "### _View_name\n",
    "Inheriting from the DOMWidget does not tell the widget framework waht front end widget to associate with your back end widget \n",
    "\n",
    "Instead, you must tell it yourself by defining secially named trait attributes, ``view_name`` and ``_view_module`` (as seen below) and optionaly ``_model``. \n"
   ]
  },
  {
   "cell_type": "code",
   "execution_count": 4,
   "metadata": {
    "collapsed": false
   },
   "outputs": [],
   "source": [
    "import ipywidgets as widgets\n",
    "from traitlets import Unicode, validate\n",
    "\n",
    "class HelloWidget(widgets.DOMWidget):\n",
    "    _view_name = Unicode('HelloView').tag(sync=True)\n",
    "    _view_module = Unicode('hello').tag(sync=True)"
   ]
  },
  {
   "cell_type": "code",
   "execution_count": null,
   "metadata": {
    "collapsed": true
   },
   "outputs": [],
   "source": []
  }
 ],
 "metadata": {
  "kernelspec": {
   "display_name": "Python [Root]",
   "language": "python",
   "name": "Python [Root]"
  },
  "language_info": {
   "codemirror_mode": {
    "name": "ipython",
    "version": 2
   },
   "file_extension": ".py",
   "mimetype": "text/x-python",
   "name": "python",
   "nbconvert_exporter": "python",
   "pygments_lexer": "ipython2",
   "version": "2.7.12"
  }
 },
 "nbformat": 4,
 "nbformat_minor": 2
}
