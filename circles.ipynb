{
 "cells": [
  {
   "cell_type": "markdown",
   "metadata": {
    "deletable": true,
    "editable": true
   },
   "source": [
    "## Learning ipywidgets: a very simple d3 \"CircleWidget\" with a js CircleView \n",
    "\n",
    "This simple notebook demonstrates:\n",
    "  - the creation of a d3 canvas for displaying circles\n",
    "  - python function calls to draw circles (with red borders)\n",
    "  - mouse click to create circles directly on the d3 svg canvas (with blue borders)\n",
    "  - syncing of the circleCount variable from browser back to kernel\n",
    "  - two html/jQuery visual elements: a circleCount readout, a \"clear all circles\" button\n",
    "  - state (the circles currently on the canvas) is recorded in javascript, not in python\n"
   ]
  },
  {
   "cell_type": "markdown",
   "metadata": {
    "deletable": true,
    "editable": true
   },
   "source": [
    "[github conversation](https://github.com/ipython/ipywidgets/issues/838#issuecomment-255506936)|"
   ]
  },
  {
   "cell_type": "code",
   "execution_count": 30,
   "metadata": {
    "collapsed": false,
    "deletable": true,
    "editable": true
   },
   "outputs": [],
   "source": [
    "import ipywidgets as widgets\n",
    "from traitlets import Int, Unicode, List\n",
    "\n",
    "class CircleWidget(widgets.DOMWidget):\n",
    "\n",
    "    _view_name = Unicode('CircleView').tag(sync=True)\n",
    "    _view_module = Unicode('circle').tag(sync=True)\n",
    "    newCircleRequest = List().tag(sync=True)\n",
    "    circleCount = Int(0).tag(sync=True);\n",
    "    \n",
    "#     def __init__(self):\n",
    "#         print('initializing')\n",
    "\n",
    "    def drawCircle(self, x, y, radius):\n",
    "       newCircle = {\"x\": x,  \"y\": y, \"radius\": radius};\n",
    "       self.newCircleRequest = [newCircle];\n",
    "        \n",
    "    def getCount(self):\n",
    "       return(self.circleCount);\n",
    "\n",
    "    def do_something(self):\n",
    "        print('doing something')"
   ]
  },
  {
   "cell_type": "code",
   "execution_count": 31,
   "metadata": {
    "collapsed": false,
    "deletable": true,
    "editable": true
   },
   "outputs": [
    {
     "data": {
      "application/javascript": [
       "\"use strict\";\n",
       "require.config({\n",
       "    paths: {\n",
       "        d3: '//cdnjs.cloudflare.com/ajax/libs/d3/3.4.8/d3.min'\n",
       "       },\n",
       "    });\n",
       "\n",
       "require.undef('circle');\n",
       "\n",
       "define('circle', [\"jupyter-js-widgets\", \"d3\"], function(widgets, d3) {\n",
       "    \n",
       "    var CircleView = widgets.DOMWidgetView.extend({\n",
       "\n",
       "        initialize: function() {\n",
       "           this.options = {};  // if this is missing: \"Error setting state: view.options is undefined\"\n",
       "           this.circles = [];\n",
       "           this.circleCount = 0;\n",
       "           },\n",
       "\n",
       "        createDiv: function(){\n",
       "            var toolbarDiv = $(\"<div id='toolbarDiv' style='border:1px solid gray; height: 30px; width: 600px'></div>\");\n",
       "            var div = $(\"<div id='d3DemoDiv' style='border:1px solid red; height: 300px; width: 600px'></div>\");\n",
       "            div.append(toolbarDiv);\n",
       "            this.circleCountReadout = $(\"<input type='text' id='circleCountReadout' value='0'/>\");\n",
       "            toolbarDiv.append(this.circleCountReadout);\n",
       "            var circleView = this;\n",
       "            function clearCircles() {\n",
       "               circleView.circles = [];\n",
       "               circleView.circleCount = 0;\n",
       "               $(\"#circleCountReadout\").val(0);\n",
       "               $(\"#svg\").children().remove();\n",
       "               circleView.model.set(\"circleCount\", 0);\n",
       "               circleView.touch();\n",
       "               };\n",
       "\n",
       "            var clearButton = $('<button>Clear Circles</button>').click(clearCircles);\n",
       "            toolbarDiv.append(clearButton);\n",
       "            return(div);\n",
       "            },\n",
       "  \n",
       "        createCanvas: function(){\n",
       "           var svg = d3.select(\"#d3DemoDiv\")\n",
       "                       .append(\"svg\")\n",
       "                       .attr(\"id\", \"svg\").attr(\"width\", 600).attr(\"height\", 300);\n",
       "           this.svg = svg;\n",
       "           var circleView = this;\n",
       "           svg.on('click', function() {\n",
       "              var coords = d3.mouse(this);\n",
       "              var newCircle = {x: coords[0], y: coords[1], radius: 20,\n",
       "                               borderColor: \"black\", fillColor: \"beige\"};\n",
       "              circleView.circles.push(newCircle);\n",
       "              circleView.drawCircle(newCircle, \"blue\");\n",
       "              });\n",
       "           }, \n",
       "\n",
       "        drawCircle: function(obj, color){\n",
       "           this.svg.append(\"circle\")\n",
       "              .style(\"stroke\", color)\n",
       "              .style(\"fill\", \"white\")\n",
       "              .attr(\"r\", obj.radius)\n",
       "              .attr(\"cx\", obj.x)\n",
       "              .attr(\"cy\", obj.y)\n",
       "              .on(\"mouseover\", function(){d3.select(this).style(\"fill\", \"aliceblue\");})\n",
       "              .on(\"mouseout\",  function(){d3.select(this).style(\"fill\", \"white\");});\n",
       "           this.circleCount += 1;\n",
       "           $(\"#circleCountReadout\").val(this.circleCount);\n",
       "           this.model.set(\"circleCount\", this.circleCount);\n",
       "           this.touch();\n",
       "           },\n",
       "\n",
       "        render: function() { \n",
       "            this.$el.append(this.createDiv());\n",
       "            this.listenTo(this.model, 'change:newCircleRequest', this.newCircleRequested, this);\n",
       "            var circleView = this;\n",
       "            function delayCanvasCreationUntilDivExists(){ \n",
       "                 // would be better to trigger on DOM div creation. not knowing how to do that, \n",
       "                 // this setTimeout hack will have to suffice.\n",
       "                circleView.createCanvas()\n",
       "               }\n",
       "            setTimeout(delayCanvasCreationUntilDivExists, 0);\n",
       "            },\n",
       "\n",
       "        newCircleRequested: function() {\n",
       "           var newCircle = this.model.get(\"newCircleRequest\")[0];\n",
       "           this.circles.push(newCircle);\n",
       "           this.drawCircle(newCircle, \"red\");\n",
       "           }\n",
       "\n",
       "    });\n",
       "    return {\n",
       "        CircleView : CircleView\n",
       "    };\n",
       "});"
      ],
      "text/plain": [
       "<IPython.core.display.Javascript object>"
      ]
     },
     "metadata": {},
     "output_type": "display_data"
    }
   ],
   "source": [
    "%%javascript\n",
    "\"use strict\";\n",
    "require.config({\n",
    "    paths: {\n",
    "        d3: '//cdnjs.cloudflare.com/ajax/libs/d3/3.4.8/d3.min'\n",
    "       },\n",
    "    });\n",
    "\n",
    "require.undef('circle');\n",
    "\n",
    "define('circle', [\"jupyter-js-widgets\", \"d3\"], function(widgets, d3) {\n",
    "    \n",
    "    var CircleView = widgets.DOMWidgetView.extend({\n",
    "\n",
    "        initialize: function() {\n",
    "           this.options = {};  // if this is missing: \"Error setting state: view.options is undefined\"\n",
    "           this.circles = [];\n",
    "           this.circleCount = 0;\n",
    "           },\n",
    "\n",
    "        createDiv: function(){\n",
    "            var toolbarDiv = $(\"<div id='toolbarDiv' style='border:1px solid gray; height: 30px; width: 600px'></div>\");\n",
    "            var div = $(\"<div id='d3DemoDiv' style='border:1px solid red; height: 300px; width: 600px'></div>\");\n",
    "            div.append(toolbarDiv);\n",
    "            this.circleCountReadout = $(\"<input type='text' id='circleCountReadout' value='0'/>\");\n",
    "            toolbarDiv.append(this.circleCountReadout);\n",
    "            var circleView = this;\n",
    "            function clearCircles() {\n",
    "               circleView.circles = [];\n",
    "               circleView.circleCount = 0;\n",
    "               $(\"#circleCountReadout\").val(0);\n",
    "               $(\"#svg\").children().remove();\n",
    "               circleView.model.set(\"circleCount\", 0);\n",
    "               circleView.touch();\n",
    "               };\n",
    "\n",
    "            var clearButton = $('<button>Clear Circles</button>').click(clearCircles);\n",
    "            toolbarDiv.append(clearButton);\n",
    "            return(div);\n",
    "            },\n",
    "  \n",
    "        createCanvas: function(){\n",
    "           var svg = d3.select(\"#d3DemoDiv\")\n",
    "                       .append(\"svg\")\n",
    "                       .attr(\"id\", \"svg\").attr(\"width\", 600).attr(\"height\", 300);\n",
    "           this.svg = svg;\n",
    "           var circleView = this;\n",
    "           svg.on('click', function() {\n",
    "              var coords = d3.mouse(this);\n",
    "              var newCircle = {x: coords[0], y: coords[1], radius: 20,\n",
    "                               borderColor: \"black\", fillColor: \"beige\"};\n",
    "              circleView.circles.push(newCircle);\n",
    "              circleView.drawCircle(newCircle, \"blue\");\n",
    "              });\n",
    "           }, \n",
    "\n",
    "        drawCircle: function(obj, color){\n",
    "           this.svg.append(\"circle\")\n",
    "              .style(\"stroke\", color)\n",
    "              .style(\"fill\", \"white\")\n",
    "              .attr(\"r\", obj.radius)\n",
    "              .attr(\"cx\", obj.x)\n",
    "              .attr(\"cy\", obj.y)\n",
    "              .on(\"mouseover\", function(){d3.select(this).style(\"fill\", \"aliceblue\");})\n",
    "              .on(\"mouseout\",  function(){d3.select(this).style(\"fill\", \"white\");});\n",
    "           this.circleCount += 1;\n",
    "           $(\"#circleCountReadout\").val(this.circleCount);\n",
    "           this.model.set(\"circleCount\", this.circleCount);\n",
    "           this.touch();\n",
    "           },\n",
    "\n",
    "        render: function() { \n",
    "            this.$el.append(this.createDiv());\n",
    "            this.listenTo(this.model, 'change:newCircleRequest', this.newCircleRequested, this);\n",
    "            var circleView = this;\n",
    "            function delayCanvasCreationUntilDivExists(){ \n",
    "                 // would be better to trigger on DOM div creation. not knowing how to do that, \n",
    "                 // this setTimeout hack will have to suffice.\n",
    "                circleView.createCanvas()\n",
    "               }\n",
    "            setTimeout(delayCanvasCreationUntilDivExists, 0);\n",
    "            },\n",
    "\n",
    "        newCircleRequested: function() {\n",
    "           var newCircle = this.model.get(\"newCircleRequest\")[0];\n",
    "           this.circles.push(newCircle);\n",
    "           this.drawCircle(newCircle, \"red\");\n",
    "           }\n",
    "\n",
    "    });\n",
    "    return {\n",
    "        CircleView : CircleView\n",
    "    };\n",
    "});"
   ]
  },
  {
   "cell_type": "code",
   "execution_count": null,
   "metadata": {
    "collapsed": true
   },
   "outputs": [],
   "source": []
  },
  {
   "cell_type": "code",
   "execution_count": null,
   "metadata": {
    "collapsed": true
   },
   "outputs": [],
   "source": []
  },
  {
   "cell_type": "code",
   "execution_count": 32,
   "metadata": {
    "collapsed": false,
    "deletable": true,
    "editable": true
   },
   "outputs": [
    {
     "data": {
      "application/vnd.jupyter.widget-view+json": {
       "model_id": "5e02e39c92a745299c76251a8d50fb67"
      }
     },
     "metadata": {},
     "output_type": "display_data"
    }
   ],
   "source": [
    "cw = CircleWidget()\n",
    "cw"
   ]
  },
  {
   "cell_type": "code",
   "execution_count": 33,
   "metadata": {
    "collapsed": false
   },
   "outputs": [
    {
     "name": "stdout",
     "output_type": "stream",
     "text": [
      "doing something\n"
     ]
    }
   ],
   "source": [
    "cw.do_something()"
   ]
  },
  {
   "cell_type": "code",
   "execution_count": 35,
   "metadata": {
    "collapsed": false
   },
   "outputs": [
    {
     "data": {
      "text/plain": [
       "10"
      ]
     },
     "execution_count": 35,
     "metadata": {},
     "output_type": "execute_result"
    }
   ],
   "source": [
    "cw.circleCount = 10\n",
    "cw.circleCount "
   ]
  },
  {
   "cell_type": "code",
   "execution_count": 26,
   "metadata": {
    "collapsed": false,
    "deletable": true,
    "editable": true
   },
   "outputs": [],
   "source": [
    "cw.drawCircle(x=30, y=30, radius=10)"
   ]
  },
  {
   "cell_type": "code",
   "execution_count": 21,
   "metadata": {
    "collapsed": false,
    "deletable": true,
    "editable": true
   },
   "outputs": [],
   "source": [
    "cw.drawCircle(x=400, y=200, radius=30)"
   ]
  },
  {
   "cell_type": "code",
   "execution_count": 22,
   "metadata": {
    "collapsed": false,
    "deletable": true,
    "editable": true
   },
   "outputs": [
    {
     "ename": "AttributeError",
     "evalue": "'CircleWidget' object has no attribute 'circleCount'",
     "output_type": "error",
     "traceback": [
      "\u001b[0;31m---------------------------------------------------------------------------\u001b[0m",
      "\u001b[0;31mAttributeError\u001b[0m                            Traceback (most recent call last)",
      "\u001b[0;32m<ipython-input-22-20b5724498c0>\u001b[0m in \u001b[0;36m<module>\u001b[0;34m()\u001b[0m\n\u001b[0;32m----> 1\u001b[0;31m \u001b[0mcw\u001b[0m\u001b[0;34m.\u001b[0m\u001b[0mgetCount\u001b[0m\u001b[0;34m(\u001b[0m\u001b[0;34m)\u001b[0m\u001b[0;34m\u001b[0m\u001b[0m\n\u001b[0m",
      "\u001b[0;32m<ipython-input-17-4e8fb1d2a09a>\u001b[0m in \u001b[0;36mgetCount\u001b[0;34m(self)\u001b[0m\n\u001b[1;32m     18\u001b[0m \u001b[0;34m\u001b[0m\u001b[0m\n\u001b[1;32m     19\u001b[0m     \u001b[0;32mdef\u001b[0m \u001b[0mgetCount\u001b[0m\u001b[0;34m(\u001b[0m\u001b[0mself\u001b[0m\u001b[0;34m)\u001b[0m\u001b[0;34m:\u001b[0m\u001b[0;34m\u001b[0m\u001b[0m\n\u001b[0;32m---> 20\u001b[0;31m        \u001b[0;32mreturn\u001b[0m\u001b[0;34m(\u001b[0m\u001b[0mself\u001b[0m\u001b[0;34m.\u001b[0m\u001b[0mcircleCount\u001b[0m\u001b[0;34m)\u001b[0m\u001b[0;34m;\u001b[0m\u001b[0;34m\u001b[0m\u001b[0m\n\u001b[0m",
      "\u001b[0;31mAttributeError\u001b[0m: 'CircleWidget' object has no attribute 'circleCount'"
     ]
    }
   ],
   "source": [
    "cw.getCount()"
   ]
  },
  {
   "cell_type": "code",
   "execution_count": null,
   "metadata": {
    "collapsed": true
   },
   "outputs": [],
   "source": []
  }
 ],
 "metadata": {
  "kernelspec": {
   "display_name": "Python [py35]",
   "language": "python",
   "name": "Python [py35]"
  },
  "language_info": {
   "codemirror_mode": {
    "name": "ipython",
    "version": 3
   },
   "file_extension": ".py",
   "mimetype": "text/x-python",
   "name": "python",
   "nbconvert_exporter": "python",
   "pygments_lexer": "ipython3",
   "version": "3.5.2"
  }
 },
 "nbformat": 4,
 "nbformat_minor": 0
}
